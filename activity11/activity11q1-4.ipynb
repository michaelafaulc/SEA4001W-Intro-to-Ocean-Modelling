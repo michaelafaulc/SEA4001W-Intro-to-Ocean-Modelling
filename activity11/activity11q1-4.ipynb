{
 "cells": [
  {
   "cell_type": "markdown",
   "id": "7dae3917-8020-40ac-a9dc-0c79191fdf41",
   "metadata": {
    "tags": []
   },
   "source": [
    "## Question 1"
   ]
  },
  {
   "cell_type": "markdown",
   "id": "db7b39f1-3dba-4538-9cc0-dabde7ef7f65",
   "metadata": {},
   "source": [
    "**What do you think the next two lines do? [hint: see slide on page 56]**"
   ]
  },
  {
   "cell_type": "markdown",
   "id": "83f8d3a7-3695-4789-b520-b2454e18c685",
   "metadata": {},
   "source": [
    "The lines compute time in the forward direction and the backward direction to set the boundary conditions. The first line sets the boundary on the left in the 0 index (starting at the first row) in the spatial axis. The second line specifies the last row in the spatial index as the boundary on the right. Setting the boundaries to be T0 ensures temperature remains constant there."
   ]
  },
  {
   "cell_type": "markdown",
   "id": "bf3dd256-6344-47c2-b53b-091ed34accba",
   "metadata": {},
   "source": [
    "## Question 2"
   ]
  },
  {
   "cell_type": "markdown",
   "id": "9df49a20-033a-4ad0-8276-9bd399428c48",
   "metadata": {},
   "source": [
    "**Which component of the numerical scheme is implemented in line #L1? What does\n",
    "line #L2 do?**"
   ]
  },
  {
   "cell_type": "markdown",
   "id": "79e660ac-2602-49e5-8035-02f73b31188f",
   "metadata": {},
   "source": [
    "The advection component of the temperature across a spatial and temporal scale is implemented in L1. L2 computes the next temperature in the next timestep based on the previous temperature."
   ]
  },
  {
   "cell_type": "markdown",
   "id": "2e4921b2-7fc0-49dd-b1a4-2dd91427c8cd",
   "metadata": {},
   "source": [
    "## Question 3"
   ]
  },
  {
   "cell_type": "markdown",
   "id": "22e16b94-8e55-4db9-8b1c-11aabd127cf5",
   "metadata": {},
   "source": [
    "**Why does the code not perform the computation on all the elements of the array T, i.e. T[:,n]?**"
   ]
  },
  {
   "cell_type": "markdown",
   "id": "8121fc6f-f7d7-4b87-acae-60060c747cb6",
   "metadata": {},
   "source": [
    "This is because different boundary conditions are applied to make conditions consistent i.e temperature is constant. To make computations less complicated, we consider the boundary and interior conditions separately. To include all elements of the array the code would be T[:,n+1]."
   ]
  },
  {
   "cell_type": "markdown",
   "id": "24cd33ad-5af6-4b59-94b4-7e24564939d9",
   "metadata": {},
   "source": [
    "## Question 4"
   ]
  },
  {
   "cell_type": "markdown",
   "id": "c926b599-448b-4087-b52a-dc6ca57d9b3e",
   "metadata": {},
   "source": [
    "**How different is the numerical solution from the expected moving perturbation?\n",
    "What is the possible reason?**"
   ]
  },
  {
   "cell_type": "markdown",
   "id": "215a2593-b992-4d28-8b3f-c5f04e572cd8",
   "metadata": {},
   "source": [
    "Initially the numerical solution is the same as the moving perturbation but deviates as advection over time continues. The numerical solution's peak becomes higher than the moving perturbation and the Gaussian curve slightly too narrow. The parameters might not fit the problem i.e the spatial or time parameters are not ideal.The time step or spatial step might be too large so less detail is captured and thus the numerical solution is not accurate. There could be an issue with the Courant number because of this problem in dx or dt."
   ]
  },
  {
   "cell_type": "code",
   "execution_count": null,
   "id": "20233d8d-9da6-41ac-9634-dc38320e0ba2",
   "metadata": {},
   "outputs": [],
   "source": []
  }
 ],
 "metadata": {
  "kernelspec": {
   "display_name": "Python 3 (ipykernel)",
   "language": "python",
   "name": "python3"
  },
  "language_info": {
   "codemirror_mode": {
    "name": "ipython",
    "version": 3
   },
   "file_extension": ".py",
   "mimetype": "text/x-python",
   "name": "python",
   "nbconvert_exporter": "python",
   "pygments_lexer": "ipython3",
   "version": "3.11.5"
  }
 },
 "nbformat": 4,
 "nbformat_minor": 5
}
